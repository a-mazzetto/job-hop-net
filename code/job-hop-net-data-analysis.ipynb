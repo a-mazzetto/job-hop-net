{
 "cells": [
  {
   "cell_type": "markdown",
   "id": "b9d3404a",
   "metadata": {},
   "source": [
    "# Job Hop Net Data Analysis\n",
    "## A. Mazzetto\n",
    "### December 2022"
   ]
  },
  {
   "cell_type": "code",
   "execution_count": null,
   "id": "dc4f9f1b",
   "metadata": {},
   "outputs": [],
   "source": [
    "import networkx as nx\n",
    "import matplotlib.pyplot as plt"
   ]
  },
  {
   "cell_type": "code",
   "execution_count": null,
   "id": "0b3bd283",
   "metadata": {},
   "outputs": [],
   "source": [
    "# Load the data from file\n",
    "\n",
    "job_hop_ext_unique = []\n",
    "job_hop_ext_unique_wt = []\n",
    "job_hop_ext_unique_weighted = []\n",
    "firm_sector = []\n",
    "\n",
    "with open('../data/job-hop-net.dat','r') as file:\n",
    "    for line in file.readlines():\n",
    "        source_job, source_sector, destination_job, destination_sector, num_hops, weight_1, weight_2 = line.split('\\t')\n",
    "        job_hop = (source_job, destination_job)\n",
    "        job_hop_ext_unique.append(job_hop)\n",
    "        job_hop_ext_unique_weighted.append(job_hop + (dict(weight = float(weight_1), weight_tgt = float(weight_2)),))\n",
    "        job_hop_ext_unique_wt.append(num_hops)\n",
    "        firm_sector.append((source_job, source_sector))\n",
    "        firm_sector.append((destination_job, destination_sector))"
   ]
  },
  {
   "cell_type": "code",
   "execution_count": null,
   "id": "95cc3149",
   "metadata": {},
   "outputs": [],
   "source": [
    "# Construct firm sector dictionary\n",
    "firms_sector = dict(set(firm_sector))"
   ]
  },
  {
   "cell_type": "code",
   "execution_count": null,
   "id": "8264d491",
   "metadata": {},
   "outputs": [],
   "source": [
    "# Create graphs\n",
    "job_hops_graph = nx.from_edgelist(job_hop_ext_unique, create_using=nx.DiGraph)\n",
    "nx.set_node_attributes(job_hops_graph, firms_sector, 'sector')\n",
    "job_hops_graph_wt = nx.from_edgelist(job_hop_ext_unique_weighted, create_using=nx.DiGraph)\n",
    "nx.set_node_attributes(job_hops_graph_wt, firms_sector, 'sector')"
   ]
  },
  {
   "cell_type": "code",
   "execution_count": null,
   "id": "170e140b",
   "metadata": {},
   "outputs": [],
   "source": [
    "job_hops_graph_wt.edges(data=True)"
   ]
  },
  {
   "cell_type": "code",
   "execution_count": null,
   "id": "23a5f559",
   "metadata": {},
   "outputs": [],
   "source": [
    "job_hops_graph.nodes(data=True)"
   ]
  },
  {
   "cell_type": "code",
   "execution_count": null,
   "id": "e7c55bc7",
   "metadata": {},
   "outputs": [],
   "source": [
    "pos = nx.shell_layout(job_hops_graph)\n",
    "fig = plt.figure(figsize=(3,3))\n",
    "nx.draw(job_hops_graph,pos,node_color=\"blue\",node_size=10,with_labels = False,font_color=\"w\")"
   ]
  },
  {
   "cell_type": "code",
   "execution_count": null,
   "id": "afd2f454",
   "metadata": {},
   "outputs": [],
   "source": [
    "job_hops_graph.degree()"
   ]
  },
  {
   "cell_type": "code",
   "execution_count": null,
   "id": "24a02696",
   "metadata": {},
   "outputs": [],
   "source": [
    "job_hops_graph.is_directed()"
   ]
  },
  {
   "cell_type": "code",
   "execution_count": null,
   "id": "43d8e897",
   "metadata": {},
   "outputs": [],
   "source": [
    "job_hops_graph.number_of_nodes()"
   ]
  },
  {
   "cell_type": "code",
   "execution_count": null,
   "id": "5b3db43c",
   "metadata": {},
   "outputs": [],
   "source": [
    "job_hops_graph.number_of_edges()"
   ]
  },
  {
   "cell_type": "code",
   "execution_count": null,
   "id": "ac693b44",
   "metadata": {},
   "outputs": [],
   "source": [
    "# nx.connectivity.is_k_edge_connected(job_hops_graph, 1) # Only for non-directed graph"
   ]
  },
  {
   "cell_type": "code",
   "execution_count": null,
   "id": "7991ab02",
   "metadata": {},
   "outputs": [],
   "source": [
    "nx.find_cycle(job_hops_graph)"
   ]
  },
  {
   "cell_type": "code",
   "execution_count": null,
   "id": "08bc279f",
   "metadata": {},
   "outputs": [],
   "source": [
    "# nx.dag_longest_path_length(job_hops_graph)"
   ]
  },
  {
   "cell_type": "markdown",
   "id": "f0e44318",
   "metadata": {},
   "source": [
    "## Turnover: in-degree and out-degree"
   ]
  },
  {
   "cell_type": "markdown",
   "id": "9ff69572",
   "metadata": {},
   "source": [
    "### In-degree"
   ]
  },
  {
   "cell_type": "code",
   "execution_count": null,
   "id": "81be74ed",
   "metadata": {},
   "outputs": [],
   "source": [
    "# To be normalized by number of employees for companies A and B\n",
    "[job_hops_graph.in_degree()[i] for i in ['companyA','companyB']]"
   ]
  },
  {
   "cell_type": "code",
   "execution_count": null,
   "id": "77af9600",
   "metadata": {},
   "outputs": [],
   "source": [
    "%%script false --no-raise-error\n",
    "# Hidden to not give away information on number of employees that might be used for reverse engineering\n",
    "\n",
    "# Normalized by number of employees for companies A and B\n",
    "[job_hops_graph.in_degree()[i]/firms_number[i] for i in ['companyA','companyB']]"
   ]
  },
  {
   "cell_type": "code",
   "execution_count": null,
   "id": "1ba96215",
   "metadata": {},
   "outputs": [],
   "source": [
    "[job_hops_graph_wt.in_degree(weight='weight_tgt')[i] for i in ['companyA', 'companyB']]"
   ]
  },
  {
   "cell_type": "markdown",
   "id": "d6b72b65",
   "metadata": {},
   "source": [
    "### Out-degree"
   ]
  },
  {
   "cell_type": "code",
   "execution_count": null,
   "id": "2e9f4ede",
   "metadata": {},
   "outputs": [],
   "source": [
    "# To be normalized by number of employees for companies A and B\n",
    "[job_hops_graph.out_degree()[i] for i in ['companyA','companyB']]"
   ]
  },
  {
   "cell_type": "code",
   "execution_count": null,
   "id": "5512cd79",
   "metadata": {},
   "outputs": [],
   "source": [
    "%%script false --no-raise-error\n",
    "# Hidden to not give away information on number of employees that might be used for reverse engineering\n",
    "\n",
    "# Normalized by number of employees for companies A and B\n",
    "[job_hops_graph.out_degree()[i]/firms_number[i] for i in ['companyA','companyB']]"
   ]
  },
  {
   "cell_type": "code",
   "execution_count": null,
   "id": "70a18c97",
   "metadata": {},
   "outputs": [],
   "source": [
    "[job_hops_graph_wt.out_degree(weight= 'weight_tgt')[i] for i in ['companyA','companyB']]"
   ]
  },
  {
   "cell_type": "code",
   "execution_count": null,
   "id": "ba910c3f",
   "metadata": {
    "scrolled": true
   },
   "outputs": [],
   "source": [
    "# How prominent\n",
    "nx.in_degree_centrality(job_hops_graph)['companyA'], nx.in_degree_centrality(job_hops_graph)['companyB']"
   ]
  },
  {
   "cell_type": "code",
   "execution_count": null,
   "id": "33499b0b",
   "metadata": {},
   "outputs": [],
   "source": [
    "# How influential\n",
    "nx.out_degree_centrality(job_hops_graph)['companyA'], nx.out_degree_centrality(job_hops_graph)['companyB']"
   ]
  },
  {
   "cell_type": "markdown",
   "id": "77e107d0",
   "metadata": {},
   "source": [
    "## Where it is happening: sub-graph with companies with highest weights"
   ]
  },
  {
   "cell_type": "code",
   "execution_count": null,
   "id": "a07df92a",
   "metadata": {},
   "outputs": [],
   "source": [
    "# For the weighted graph, draw the graph with edges with the highest weight (to be updated when the weight is normelised)\n",
    "idx_edge_ordered = sorted(range(len(job_hop_ext_unique_wt)), key=lambda k: job_hop_ext_unique_wt[k], reverse= True)\n",
    "# Keep only 20 edges with highest weight\n",
    "job_hop_ext_unique_weighted_small = [job_hop_ext_unique_weighted[i] for i in idx_edge_ordered[0:20]]\n",
    "job_hops_graph_wt_small = nx.from_edgelist(job_hop_ext_unique_weighted_small, create_using= nx.DiGraph)"
   ]
  },
  {
   "cell_type": "code",
   "execution_count": null,
   "id": "09d3c7c0",
   "metadata": {},
   "outputs": [],
   "source": [
    "job_hop_ext_unique_weighted_small"
   ]
  },
  {
   "cell_type": "code",
   "execution_count": null,
   "id": "7827d1f0",
   "metadata": {},
   "outputs": [],
   "source": [
    "pos = nx.shell_layout(job_hops_graph_wt_small)\n",
    "fig = plt.figure(figsize=(10,10))\n",
    "nx.draw_networkx(job_hops_graph_wt_small,pos,node_color=\"blue\",node_size=300,with_labels = True,font_color=\"red\")\n",
    "edge_labels = {i[0:2]: '{:.1E}'.format(i[2]['weight']) for i in job_hops_graph_wt_small.edges(data=True)}\n",
    "nx.draw_networkx_edge_labels(job_hops_graph_wt_small,pos, edge_labels= edge_labels);"
   ]
  },
  {
   "cell_type": "markdown",
   "id": "accd1f4b",
   "metadata": {},
   "source": [
    "### Innovation and age: degree and closeness centrality"
   ]
  },
  {
   "cell_type": "code",
   "execution_count": null,
   "id": "dea91575",
   "metadata": {},
   "outputs": [],
   "source": [
    "# Age and hiring strategy of a company"
   ]
  },
  {
   "cell_type": "code",
   "execution_count": null,
   "id": "fc8e3358",
   "metadata": {},
   "outputs": [],
   "source": [
    "# Degree centrality (network breadth)\n",
    "nx.degree_centrality(job_hops_graph)['companyA'], nx.degree_centrality(job_hops_graph)['companyB']"
   ]
  },
  {
   "cell_type": "code",
   "execution_count": null,
   "id": "3428d40b",
   "metadata": {},
   "outputs": [],
   "source": [
    "# Closeness centrality (network depth)\n",
    "nx.closeness_centrality(job_hops_graph)['companyA'], nx.closeness_centrality(job_hops_graph)['companyB']"
   ]
  },
  {
   "cell_type": "code",
   "execution_count": null,
   "id": "64b53000",
   "metadata": {},
   "outputs": [],
   "source": [
    "# Company B is more innovative"
   ]
  },
  {
   "cell_type": "markdown",
   "id": "361b46bf",
   "metadata": {},
   "source": [
    "### Aspiration: Google PageRank"
   ]
  },
  {
   "cell_type": "code",
   "execution_count": null,
   "id": "1b1c9fb7",
   "metadata": {},
   "outputs": [],
   "source": [
    "# Pagerank\n",
    "job_hop_pagerank = nx.pagerank(job_hops_graph, alpha= 0.15, max_iter= 100)\n",
    "job_hop_pagerank['companyA'], job_hop_pagerank['companyB']"
   ]
  },
  {
   "cell_type": "code",
   "execution_count": null,
   "id": "4643f854",
   "metadata": {},
   "outputs": [],
   "source": [
    "job_hop_pagerank_wt = nx.pagerank(job_hops_graph_wt, alpha= 0.15, max_iter= 100, weight= 'weight')\n",
    "job_hop_pagerank_wt['companyA'], job_hop_pagerank_wt['companyB']"
   ]
  },
  {
   "cell_type": "code",
   "execution_count": null,
   "id": "df15bad7",
   "metadata": {},
   "outputs": [],
   "source": [
    "fig = plt.figure(figsize=(10,2))\n",
    "plt.subplot(1,2,1)\n",
    "plt.hist(job_hop_pagerank.values())\n",
    "plt.xlim([0,0.1])\n",
    "plt.ylim([0,10])\n",
    "plt.subplot(1,2,2)\n",
    "plt.hist(job_hop_pagerank_wt.values())\n",
    "plt.xlim([0,0.1])\n",
    "plt.ylim([0,10]);"
   ]
  },
  {
   "cell_type": "markdown",
   "id": "60b2535a",
   "metadata": {},
   "source": [
    "### Fast track to a new job: shortest path"
   ]
  },
  {
   "cell_type": "code",
   "execution_count": null,
   "id": "9b20a355",
   "metadata": {},
   "outputs": [],
   "source": [
    "# Stortest paths unweighted\n",
    "nx.single_source_shortest_path_length(job_hops_graph,source='companyB');"
   ]
  },
  {
   "cell_type": "code",
   "execution_count": null,
   "id": "d35c2d8d",
   "metadata": {},
   "outputs": [],
   "source": [
    "dict(nx.single_target_shortest_path_length(job_hops_graph,target='companyB'))"
   ]
  },
  {
   "cell_type": "code",
   "execution_count": null,
   "id": "0139e7fe",
   "metadata": {},
   "outputs": [],
   "source": [
    "nx.single_source_shortest_path_length(job_hops_graph,source='companyA');"
   ]
  },
  {
   "cell_type": "code",
   "execution_count": null,
   "id": "e5d773a8",
   "metadata": {},
   "outputs": [],
   "source": [
    "dict(nx.single_target_shortest_path_length(job_hops_graph,target='companyA'))"
   ]
  },
  {
   "cell_type": "code",
   "execution_count": null,
   "id": "1ee65a1a",
   "metadata": {},
   "outputs": [],
   "source": [
    "nx.shortest_path(job_hops_graph, 'companyA', 'bulgari')"
   ]
  },
  {
   "cell_type": "code",
   "execution_count": null,
   "id": "5fbe826e",
   "metadata": {},
   "outputs": [],
   "source": [
    "simple_path_gen = nx.all_simple_paths(job_hops_graph, 'companyB', 'pirelli', cutoff= 5)"
   ]
  },
  {
   "cell_type": "code",
   "execution_count": null,
   "id": "792294fa",
   "metadata": {},
   "outputs": [],
   "source": [
    "nx.shortest_path(job_hops_graph, 'companyB', 'bulgari')"
   ]
  },
  {
   "cell_type": "code",
   "execution_count": null,
   "id": "ad478096",
   "metadata": {},
   "outputs": [],
   "source": [
    "# Stortest paths weighted\n",
    "nx.single_source_dijkstra_path_length(job_hops_graph_wt,source='companyB');"
   ]
  },
  {
   "cell_type": "code",
   "execution_count": null,
   "id": "638cba88",
   "metadata": {},
   "outputs": [],
   "source": [
    "def single_target_dijkstra_path_length(G, target):\n",
    "    pl_dict = {}\n",
    "    for n in G.nodes():\n",
    "        try:\n",
    "            path_len = len(nx.dijkstra_path(G, source= n, target= target, weight= 'weight')) - 1\n",
    "            pl_dict.update({n: path_len})\n",
    "        except nx.NetworkXNoPath:\n",
    "            None\n",
    "    return(dict(sorted(pl_dict.items(), key=lambda item: item[1])))"
   ]
  },
  {
   "cell_type": "code",
   "execution_count": null,
   "id": "a2443124",
   "metadata": {},
   "outputs": [],
   "source": [
    "single_target_dijkstra_path_length(job_hops_graph_wt, target= 'companyB')"
   ]
  },
  {
   "cell_type": "code",
   "execution_count": null,
   "id": "16a66326",
   "metadata": {},
   "outputs": [],
   "source": [
    "nx.single_source_dijkstra_path_length(job_hops_graph_wt,source='companyA');"
   ]
  },
  {
   "cell_type": "code",
   "execution_count": null,
   "id": "a8cce44c",
   "metadata": {},
   "outputs": [],
   "source": [
    "single_target_dijkstra_path_length(job_hops_graph_wt, target= 'companyA')"
   ]
  },
  {
   "cell_type": "code",
   "execution_count": null,
   "id": "1b4c79bf",
   "metadata": {},
   "outputs": [],
   "source": [
    "nx.dijkstra_path(job_hops_graph_wt, 'companyA', 'bulgari')"
   ]
  },
  {
   "cell_type": "code",
   "execution_count": null,
   "id": "161f8fbe",
   "metadata": {},
   "outputs": [],
   "source": [
    "nx.dijkstra_path(job_hops_graph_wt, 'companyB', 'bulgari')"
   ]
  },
  {
   "cell_type": "markdown",
   "id": "2e7d1336",
   "metadata": {},
   "source": [
    "### Community detection"
   ]
  },
  {
   "cell_type": "code",
   "execution_count": null,
   "id": "ffae2303",
   "metadata": {},
   "outputs": [],
   "source": [
    "# Betweenness centrality\n",
    "nx.edge_betweenness_centrality(job_hops_graph);"
   ]
  },
  {
   "cell_type": "code",
   "execution_count": null,
   "id": "1cccb7a5",
   "metadata": {},
   "outputs": [],
   "source": [
    "from networkx.algorithms.community import girvan_newman"
   ]
  },
  {
   "cell_type": "code",
   "execution_count": null,
   "id": "6d8e48f0",
   "metadata": {},
   "outputs": [],
   "source": [
    "communities_generator = girvan_newman(job_hops_graph)\n",
    "communities = ()\n",
    "while len(communities)==0 or max([len(i) for i in communities]) > 10:\n",
    "    communities = next(communities_generator)\n",
    "# Drop communities with only one element\n",
    "communities = tuple(i for i in communities if len(i) > 2)"
   ]
  },
  {
   "cell_type": "code",
   "execution_count": null,
   "id": "83b00a36",
   "metadata": {},
   "outputs": [],
   "source": [
    "communities"
   ]
  },
  {
   "cell_type": "code",
   "execution_count": null,
   "id": "7447c844",
   "metadata": {},
   "outputs": [],
   "source": [
    "[[(j,firms_sector[j]) for j in i] for i in communities]"
   ]
  },
  {
   "cell_type": "code",
   "execution_count": null,
   "id": "f8d0879c",
   "metadata": {},
   "outputs": [],
   "source": [
    "# Useful for the graph, but not used here\n",
    "community_nodes_set = set()\n",
    "_ = [community_nodes_set.update(i) for i in communities]"
   ]
  },
  {
   "cell_type": "code",
   "execution_count": null,
   "id": "fd150965",
   "metadata": {},
   "outputs": [],
   "source": [
    "# Assortativity\n",
    "nx.algorithms.degree_assortativity_coefficient(\n",
    "    job_hops_graph,\n",
    "    x= 'out',\n",
    "    y= 'out',\n",
    "    nodes= community_nodes_set\n",
    ")"
   ]
  },
  {
   "cell_type": "code",
   "execution_count": null,
   "id": "5330fa7c",
   "metadata": {},
   "outputs": [],
   "source": [
    "nx.algorithms.degree_assortativity_coefficient(\n",
    "    job_hops_graph,\n",
    "    x= 'in',\n",
    "    y= 'in',\n",
    "    nodes= community_nodes_set\n",
    ")"
   ]
  },
  {
   "cell_type": "code",
   "execution_count": null,
   "id": "dd4b44bf",
   "metadata": {},
   "outputs": [],
   "source": [
    "nx.algorithms.degree_assortativity_coefficient(\n",
    "    job_hops_graph_wt,\n",
    "    x= 'out',\n",
    "    y= 'out',\n",
    "    nodes= community_nodes_set,\n",
    "    weight= 'weight'\n",
    ")"
   ]
  },
  {
   "cell_type": "code",
   "execution_count": null,
   "id": "7847bcbd",
   "metadata": {},
   "outputs": [],
   "source": [
    "nx.algorithms.degree_assortativity_coefficient(\n",
    "    job_hops_graph_wt,\n",
    "    x= 'in',\n",
    "    y= 'in',\n",
    "    nodes= community_nodes_set,\n",
    "    weight= 'weight'\n",
    ")"
   ]
  },
  {
   "cell_type": "code",
   "execution_count": null,
   "id": "8c35f145",
   "metadata": {},
   "outputs": [],
   "source": [
    "# Look at how similar the companies are\n",
    "nx.algorithms.attribute_assortativity_coefficient(job_hops_graph, 'sector')"
   ]
  },
  {
   "cell_type": "markdown",
   "id": "f1a6e58a",
   "metadata": {},
   "source": [
    "### End of file"
   ]
  },
  {
   "cell_type": "code",
   "execution_count": null,
   "id": "15622647",
   "metadata": {},
   "outputs": [],
   "source": []
  }
 ],
 "metadata": {
  "kernelspec": {
   "display_name": "job-hop-net-env",
   "language": "python",
   "name": "job-hop-net-env"
  },
  "language_info": {
   "codemirror_mode": {
    "name": "ipython",
    "version": 3
   },
   "file_extension": ".py",
   "mimetype": "text/x-python",
   "name": "python",
   "nbconvert_exporter": "python",
   "pygments_lexer": "ipython3",
   "version": "3.8.0"
  }
 },
 "nbformat": 4,
 "nbformat_minor": 5
}
